{
 "cells": [
  {
   "cell_type": "code",
   "execution_count": 25,
   "id": "968a8eb9-42e8-4195-b986-99c6836f9425",
   "metadata": {},
   "outputs": [
    {
     "name": "stdout",
     "output_type": "stream",
     "text": [
      "Welcome to our Restaurant\n",
      "Menu:\n",
      "Pizza: Rs 80\n",
      "Pasta: Rs 40\n",
      "Burger: Rs 30\n",
      "Salad: Rs 20\n",
      "Coffee: Rs 70\n"
     ]
    },
    {
     "name": "stdin",
     "output_type": "stream",
     "text": [
      "Enter the name of the item you want to order:  pizza\n"
     ]
    },
    {
     "name": "stdout",
     "output_type": "stream",
     "text": [
      "Your item 'Pizza' has been added to your order.\n"
     ]
    },
    {
     "name": "stdin",
     "output_type": "stream",
     "text": [
      "Do you want to add another item? (Yes/No):  yes\n",
      "Enter the name of the second item:  coffee\n"
     ]
    },
    {
     "name": "stdout",
     "output_type": "stream",
     "text": [
      "Item 'Coffee' has been added to your order.\n",
      "The total amount to pay is: Rs 150\n"
     ]
    }
   ],
   "source": [
    "menu = {\n",
    "    'Pizza': 80,\n",
    "    'Pasta': 40,\n",
    "    'Burger': 30,\n",
    "    'Salad': 20,\n",
    "    'Coffee': 70,\n",
    "}\n",
    "\n",
    "print(\"Welcome to our Restaurant\")\n",
    "print(\"Menu:\")\n",
    "for item, price in menu.items():\n",
    "    print(f\"{item}: Rs {price}\")\n",
    "\n",
    "order_total = 0\n",
    "\n",
    "item_1 = input(\"Enter the name of the item you want to order: \").title()\n",
    "if item_1 in menu:\n",
    "    order_total += menu[item_1]\n",
    "    print(f\"Your item '{item_1}' has been added to your order.\")\n",
    "else:\n",
    "    print(f\"Ordered item '{item_1}' is not available!\")\n",
    "\n",
    "another_order = input(\"Do you want to add another item? (Yes/No): \").strip().lower()\n",
    "if another_order == \"yes\":\n",
    "    item_2 = input(\"Enter the name of the second item: \").title()\n",
    "    if item_2 in menu:\n",
    "        order_total += menu[item_2]\n",
    "        print(f\"Item '{item_2}' has been added to your order.\")\n",
    "    else:\n",
    "        print(f\"Ordered item '{item_2}' is not available!\")\n",
    "\n",
    "print(f\"The total amount to pay is: Rs {order_total}\")\n"
   ]
  },
  {
   "cell_type": "code",
   "execution_count": null,
   "id": "233eb86c-b0a4-43c7-a93b-8d4f46c8adac",
   "metadata": {},
   "outputs": [],
   "source": []
  }
 ],
 "metadata": {
  "kernelspec": {
   "display_name": "Python 3 (ipykernel)",
   "language": "python",
   "name": "python3"
  },
  "language_info": {
   "codemirror_mode": {
    "name": "ipython",
    "version": 3
   },
   "file_extension": ".py",
   "mimetype": "text/x-python",
   "name": "python",
   "nbconvert_exporter": "python",
   "pygments_lexer": "ipython3",
   "version": "3.12.4"
  }
 },
 "nbformat": 4,
 "nbformat_minor": 5
}
